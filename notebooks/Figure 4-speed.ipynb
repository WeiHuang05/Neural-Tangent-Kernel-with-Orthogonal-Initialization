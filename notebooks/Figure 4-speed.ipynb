{
 "cells": [
  {
   "cell_type": "markdown",
   "metadata": {},
   "source": [
    "# Figures 4\n",
    "\n",
    "Generate figures of learnig speed of Gaussian and orthogonal intialized deep networks"
   ]
  },
  {
   "cell_type": "markdown",
   "metadata": {},
   "source": [
    "## Setup"
   ]
  },
  {
   "cell_type": "code",
   "execution_count": 1,
   "metadata": {},
   "outputs": [],
   "source": [
    "from __future__ import print_function\n",
    "import os, sys\n",
    "from tqdm import tqdm\n",
    "import matplotlib.pyplot as plt\n",
    "import matplotlib\n",
    "import numpy as np"
   ]
  },
  {
   "cell_type": "markdown",
   "metadata": {},
   "source": [
    "\n",
    "\n",
    "##  $L=50$ and $N = 400$ Orthogonal network"
   ]
  },
  {
   "cell_type": "markdown",
   "metadata": {},
   "source": [
    "### test set"
   ]
  },
  {
   "cell_type": "code",
   "execution_count": 2,
   "metadata": {},
   "outputs": [],
   "source": [
    "import csv   \n",
    "number_av = 20; number_st = 30 \n",
    "Learn_Ort_N400_te = np.zeros((number_av,number_st)); Step_Ort_N400_te = np.zeros((number_av,number_st));\n",
    "for i in range(number_av):\n",
    "    j = 0\n",
    "    with open('../data/learning_test/tanh2_orth_L50_N400/tanh2_orthogonal_L50_N400_lr_%d.csv' %i , newline='') as csvfile:\n",
    "        spamreader = csv.reader(csvfile, delimiter=' ')\n",
    "        for row in spamreader:\n",
    "            Learn_Ort_N400_te[i,j] = row[1]; Step_Ort_N400_te[i,j]= row[2]\n",
    "            j = j+1\n",
    "    \n",
    "Learn_Ort_N400_av_te = np.mean(Learn_Ort_N400_te[:,:],0)\n",
    "Step_Ort_N400_av_te  = np.mean(Step_Ort_N400_te[:,:],0)\n"
   ]
  },
  {
   "cell_type": "markdown",
   "metadata": {},
   "source": [
    "\n",
    "### train set"
   ]
  },
  {
   "cell_type": "code",
   "execution_count": 3,
   "metadata": {},
   "outputs": [],
   "source": [
    "import csv   \n",
    "number_av = 20; number_st = 32 \n",
    "Learn_Ort_N400_tr = np.zeros((number_av,number_st)); Step_Ort_N400_tr = np.zeros((number_av,number_st));\n",
    "for i in range(number_av):\n",
    "    j = 0\n",
    "    with open('../data/learning_train/tanh2_orth_L50_N400/tanh2_orthogonal_L50_N400_lr_%d.csv' %i , newline='') as csvfile:\n",
    "        spamreader = csv.reader(csvfile, delimiter=' ')\n",
    "        for row in spamreader:\n",
    "            Learn_Ort_N400_tr[i,j] = row[1]; Step_Ort_N400_tr[i,j]= row[2]\n",
    "            j = j+1\n",
    "    \n",
    "Learn_Ort_N400_av_tr = np.mean(Learn_Ort_N400_tr[:,:],0)\n",
    "Step_Ort_N400_av_tr  = np.mean(Step_Ort_N400_tr[:,:],0)\n"
   ]
  },
  {
   "cell_type": "markdown",
   "metadata": {},
   "source": [
    "##  $L=50$ on $N = 400$ Gaussian network"
   ]
  },
  {
   "cell_type": "markdown",
   "metadata": {},
   "source": [
    "### test set"
   ]
  },
  {
   "cell_type": "code",
   "execution_count": 4,
   "metadata": {},
   "outputs": [],
   "source": [
    "import csv   \n",
    "\n",
    "number_av = 20; number_st = 27\n",
    "Learn_Gau_N400_te = np.zeros((number_av,number_st)); Step_Gau_N400_te = np.zeros((number_av,number_st));\n",
    "for i in range(number_av):\n",
    "    j = 0\n",
    "\n",
    "    with open('../data/learning_test/tanh2_gau_L50_N400/tanh2_gaussian_L50_N400_lr_%d.csv' %i , newline='') as csvfile:\n",
    "        spamreader = csv.reader(csvfile, delimiter=' ')\n",
    "        for row in spamreader:\n",
    "            \n",
    "            Learn_Gau_N400_te[i,j] = row[1]; Step_Gau_N400_te[i,j]= row[2]\n",
    "            j = j+1\n",
    "    \n",
    "Learn_Gau_N400_av_te = np.mean(Learn_Gau_N400_te[:,:],0)\n",
    "Step_Gau_N400_av_te  = np.mean(Step_Gau_N400_te[:,:],0)"
   ]
  },
  {
   "cell_type": "markdown",
   "metadata": {},
   "source": [
    "### train set"
   ]
  },
  {
   "cell_type": "code",
   "execution_count": 5,
   "metadata": {},
   "outputs": [],
   "source": [
    "import csv   \n",
    "\n",
    "number_av = 20; number_st = 29\n",
    "Learn_Gau_N400_tr = np.zeros((number_av,number_st)); Step_Gau_N400_tr = np.zeros((number_av,number_st));\n",
    "for i in range(number_av):\n",
    "    j = 0\n",
    "\n",
    "    with open('../data/learning_train/tanh2_gau_L50_N400/tanh2_gaussian_L50_N400_lr_%d.csv' %i , newline='') as csvfile:\n",
    "        spamreader = csv.reader(csvfile, delimiter=' ')\n",
    "        for row in spamreader:\n",
    "            \n",
    "            Learn_Gau_N400_tr[i,j] = row[1]; Step_Gau_N400_tr[i,j]= row[2]\n",
    "            j = j+1\n",
    "    \n",
    "Learn_Gau_N400_av_tr = np.mean(Learn_Gau_N400_tr[:,:],0)\n",
    "Step_Gau_N400_av_tr  = np.mean(Step_Gau_N400_tr[:,:],0)"
   ]
  },
  {
   "cell_type": "markdown",
   "metadata": {},
   "source": [
    "##  $L=50$ on $N = 800$ Orthogonal network"
   ]
  },
  {
   "cell_type": "markdown",
   "metadata": {},
   "source": [
    "### test set"
   ]
  },
  {
   "cell_type": "code",
   "execution_count": 6,
   "metadata": {},
   "outputs": [],
   "source": [
    "import csv   \n",
    "number_av = 20; number_st = 31 \n",
    "Learn_Ort_N800_te = np.zeros((number_av,number_st)); Step_Ort_N800_te = np.zeros((number_av,number_st));\n",
    "for i in range(number_av):\n",
    "    j = 0\n",
    "    with open('../data/learning_test/tanh2_orth_L50_N800/tanh2_orthogonal_L50_N800_lr_%d.csv' %i , newline='') as csvfile:\n",
    "        spamreader = csv.reader(csvfile, delimiter=' ')\n",
    "        for row in spamreader:\n",
    "            Learn_Ort_N800_te[i,j] = row[1]; Step_Ort_N800_te[i,j]= row[2]\n",
    "            j = j+1\n",
    "    \n",
    "Learn_Ort_N800_av_te = np.mean(Learn_Ort_N800_te[:,:],0)\n",
    "Step_Ort_N800_av_te  = np.mean(Step_Ort_N800_te[:,:],0)"
   ]
  },
  {
   "cell_type": "markdown",
   "metadata": {},
   "source": [
    "### train set"
   ]
  },
  {
   "cell_type": "code",
   "execution_count": 7,
   "metadata": {},
   "outputs": [],
   "source": [
    "import csv   \n",
    "number_av = 20; number_st = 33\n",
    "Learn_Ort_N800_tr = np.zeros((number_av,number_st)); Step_Ort_N800_tr = np.zeros((number_av,number_st));\n",
    "for i in range(number_av):\n",
    "    j = 0\n",
    "    with open('../data/learning_train/tanh2_orth_L50_N800/tanh2_orthogonal_L50_N800_lr_%d.csv' %i , newline='') as csvfile:\n",
    "        spamreader = csv.reader(csvfile, delimiter=' ')\n",
    "        for row in spamreader:\n",
    "            Learn_Ort_N800_tr[i,j] = row[1]; Step_Ort_N800_tr[i,j]= row[2]\n",
    "            j = j+1\n",
    "    \n",
    "Learn_Ort_N800_av_tr = np.mean(Learn_Ort_N800_tr[:,:],0)\n",
    "Step_Ort_N800_av_tr  = np.mean(Step_Ort_N800_tr[:,:],0)"
   ]
  },
  {
   "cell_type": "markdown",
   "metadata": {},
   "source": [
    "##  $L=50$ on $N = 800$ Gaussian network"
   ]
  },
  {
   "cell_type": "markdown",
   "metadata": {},
   "source": [
    "#### test set"
   ]
  },
  {
   "cell_type": "code",
   "execution_count": 8,
   "metadata": {},
   "outputs": [],
   "source": [
    "import csv   \n",
    "\n",
    "number_av = 20; number_st = 26\n",
    "Learn_Gau_N800_te = np.zeros((number_av,number_st)); Step_Gau_N800_te = np.zeros((number_av,number_st));\n",
    "for i in range(number_av):\n",
    "    j = 0\n",
    "\n",
    "    with open('../data/learning_test/tanh2_gau_L50_N800/tanh2_gaussian_L50_N800_lr_%d.csv' %i , newline='') as csvfile:\n",
    "        spamreader = csv.reader(csvfile, delimiter=' ')\n",
    "        for row in spamreader:\n",
    "            \n",
    "            Learn_Gau_N800_te[i,j] = row[1]; Step_Gau_N800_te[i,j]= row[2]\n",
    "            j = j+1\n",
    "    \n",
    "Learn_Gau_N800_av_te = np.mean(Learn_Gau_N800_te[:,:],0)\n",
    "Step_Gau_N800_av_te  = np.mean(Step_Gau_N800_te[:,:],0)"
   ]
  },
  {
   "cell_type": "markdown",
   "metadata": {},
   "source": [
    "### train set"
   ]
  },
  {
   "cell_type": "code",
   "execution_count": 9,
   "metadata": {},
   "outputs": [],
   "source": [
    "import csv  \n",
    "number_av = 20; number_st = 28\n",
    "Learn_Gau_N800_tr = np.zeros((number_av,number_st)); Step_Gau_N800_tr = np.zeros((number_av,number_st));\n",
    "for i in range(number_av):\n",
    "    j = 0\n",
    "    with open('../data/learning_train/tanh2_gau_L50_N800/tanh2_gaussian_L50_N800_lr_%d.csv' %(i) , newline='') as csvfile:\n",
    "        spamreader = csv.reader(csvfile, delimiter=' ')\n",
    "        for row in spamreader:\n",
    "            \n",
    "            Learn_Gau_N800_tr[i,j] = row[1]; Step_Gau_N800_tr[i,j]= row[2]\n",
    "            j = j+1\n",
    "    \n",
    "Learn_Gau_N800_av_tr = np.mean(Learn_Gau_N800_tr[:,:],0)\n",
    "Step_Gau_N800_av_tr  = np.mean(Step_Gau_N800_tr[:,:],0)"
   ]
  },
  {
   "cell_type": "markdown",
   "metadata": {},
   "source": [
    "##  $L=50$ on $N = 1600$ Orthogonal network"
   ]
  },
  {
   "cell_type": "markdown",
   "metadata": {},
   "source": [
    "### test set"
   ]
  },
  {
   "cell_type": "code",
   "execution_count": 10,
   "metadata": {},
   "outputs": [],
   "source": [
    "import csv   \n",
    "number_av = 20; number_st = 30\n",
    "Learn_Ort_N1600_te = np.zeros((number_av,number_st)); Step_Ort_N1600_te = np.zeros((number_av,number_st));\n",
    "for i in range(number_av):\n",
    "    j = 0\n",
    "    with open('../data/learning_test/tanh2_orth_L50_N1600/tanh2_orthogonal_L50_N1600_lr_%d.csv' %i , newline='') as csvfile:\n",
    "        spamreader = csv.reader(csvfile, delimiter=' ')\n",
    "        for row in spamreader:\n",
    "            Learn_Ort_N1600_te[i,j] = row[1]; Step_Ort_N1600_te[i,j]= row[2]\n",
    "            j = j+1\n",
    "    \n",
    "Learn_Ort_N1600_av_te = np.mean(Learn_Ort_N1600_te[:,:],0)\n",
    "Step_Ort_N1600_av_te  = np.mean(Step_Ort_N1600_te[:,:],0)"
   ]
  },
  {
   "cell_type": "markdown",
   "metadata": {},
   "source": [
    "### train set"
   ]
  },
  {
   "cell_type": "code",
   "execution_count": 11,
   "metadata": {},
   "outputs": [],
   "source": [
    "import csv   \n",
    "number_av = 20; number_st = 32\n",
    "Learn_Ort_N1600_tr = np.zeros((number_av,number_st)); Step_Ort_N1600_tr = np.zeros((number_av,number_st));\n",
    "for i in range(number_av):\n",
    "    j = 0\n",
    "    with open('../data/learning_train/tanh2_orth_L50_N1600/tanh2_orthogonal_L50_N1600_lr_%d.csv' %i , newline='') as csvfile:\n",
    "        spamreader = csv.reader(csvfile, delimiter=' ')\n",
    "        for row in spamreader:\n",
    "            Learn_Ort_N1600_tr[i,j] = row[1]; Step_Ort_N1600_tr[i,j]= row[2]\n",
    "            j = j+1\n",
    "    \n",
    "Learn_Ort_N1600_av_tr = np.mean(Learn_Ort_N1600_tr[:,:],0)\n",
    "Step_Ort_N1600_av_tr  = np.mean(Step_Ort_N1600_tr[:,:],0)"
   ]
  },
  {
   "cell_type": "markdown",
   "metadata": {},
   "source": [
    "##  $L=50$ on $N = 1600$ Gaussian network"
   ]
  },
  {
   "cell_type": "markdown",
   "metadata": {},
   "source": [
    "### train set"
   ]
  },
  {
   "cell_type": "code",
   "execution_count": 12,
   "metadata": {},
   "outputs": [],
   "source": [
    "import csv  \n",
    "number_av = 20; number_st = 29\n",
    "Learn_Gau_N1600_tr = np.zeros((number_av,number_st)); Step_Gau_N1600_tr = np.zeros((number_av,number_st));\n",
    "for i in range(number_av):\n",
    "    j = 0\n",
    "    with open('../data/learning_train/tanh2_gau_L50_N1600/tanh2_gaussian_L50_N1600_lr_%d.csv' %(i) , newline='') as csvfile:\n",
    "        spamreader = csv.reader(csvfile, delimiter=' ')\n",
    "        for row in spamreader:\n",
    "            \n",
    "            Learn_Gau_N1600_tr[i,j] = row[1]; Step_Gau_N1600_tr[i,j]= row[2]\n",
    "            j = j+1\n",
    "    \n",
    "Learn_Gau_N1600_av_tr = np.mean(Learn_Gau_N1600_tr[:,:],0)\n",
    "Step_Gau_N1600_av_tr  = np.mean(Step_Gau_N1600_tr[:,:],0)"
   ]
  },
  {
   "cell_type": "markdown",
   "metadata": {},
   "source": [
    "### test set"
   ]
  },
  {
   "cell_type": "code",
   "execution_count": 13,
   "metadata": {},
   "outputs": [],
   "source": [
    "import csv   \n",
    "number_av = 20; number_st = 26\n",
    "Learn_Gau_N1600_te = np.zeros((number_av,number_st)); Step_Gau_N1600_te = np.zeros((number_av,number_st));\n",
    "for i in range(number_av):\n",
    "    j = 0\n",
    "    with open('../data/learning_test/tanh2_gau_L50_N1600/tanh2_gaussian_L50_N1600_lr_%d.csv' %i , newline='') as csvfile:\n",
    "        spamreader = csv.reader(csvfile, delimiter=' ')\n",
    "        for row in spamreader:\n",
    "            Learn_Gau_N1600_te[i,j] = row[1]; Step_Gau_N1600_te[i,j]= row[2]\n",
    "            j = j+1\n",
    "    \n",
    "Learn_Gau_N1600_av_te = np.mean(Learn_Gau_N1600_te[:,:],0)\n",
    "Step_Gau_N1600_av_te  = np.mean(Step_Gau_N1600_te[:,:],0)"
   ]
  },
  {
   "cell_type": "markdown",
   "metadata": {},
   "source": [
    "##  $L=100$ on $N = 400$ Orthogonal network"
   ]
  },
  {
   "cell_type": "markdown",
   "metadata": {},
   "source": [
    "### train set"
   ]
  },
  {
   "cell_type": "code",
   "execution_count": 14,
   "metadata": {},
   "outputs": [],
   "source": [
    "import csv   \n",
    "number_av = 20; number_st = 30\n",
    "Learn_Ort_L100_N400_tr = np.zeros((number_av,number_st)); Step_Ort_L100_N400_tr = np.zeros((number_av,number_st));\n",
    "for i in range(number_av):\n",
    "    j = 0\n",
    "    with open('../data/learning_train/tanh2_orth_L100_N400/tanh2_orthogonal_L100_N400_lr_%d.csv' %i , newline='') as csvfile:\n",
    "        spamreader = csv.reader(csvfile, delimiter=' ')\n",
    "        for row in spamreader:\n",
    "            Learn_Ort_L100_N400_tr[i,j] = row[1]; Step_Ort_L100_N400_tr[i,j]= row[2]\n",
    "            j = j+1\n",
    "    \n",
    "Learn_Ort_L100_N400_av_tr = np.mean(Learn_Ort_L100_N400_tr[:,:],0)\n",
    "Step_Ort_L100_N400_av_tr  = np.mean(Step_Ort_L100_N400_tr[:,:],0)"
   ]
  },
  {
   "cell_type": "markdown",
   "metadata": {},
   "source": [
    "### test set"
   ]
  },
  {
   "cell_type": "code",
   "execution_count": 15,
   "metadata": {},
   "outputs": [],
   "source": [
    "import csv   \n",
    "number_av = 20; number_st = 29\n",
    "Learn_Ort_L100_N400_te = np.zeros((number_av,number_st)); Step_Ort_L100_N400_te = np.zeros((number_av,number_st));\n",
    "for i in range(number_av):\n",
    "    j = 0\n",
    "    with open('../data/learning_test/tanh2_orth_L100_N400/tanh2_orthogonal_L100_N400_lr_%d.csv' %i , newline='') as csvfile:\n",
    "        spamreader = csv.reader(csvfile, delimiter=' ')\n",
    "        for row in spamreader:\n",
    "            Learn_Ort_L100_N400_te[i,j] = row[1]; Step_Ort_L100_N400_te[i,j]= row[2]\n",
    "            j = j+1\n",
    "    \n",
    "Learn_Ort_L100_N400_av_te = np.mean(Learn_Ort_L100_N400_te[:,:],0)\n",
    "Step_Ort_L100_N400_av_te  = np.mean(Step_Ort_L100_N400_te[:,:],0)"
   ]
  },
  {
   "cell_type": "markdown",
   "metadata": {},
   "source": [
    "##  $L=100$ on $N = 400$ Gaussian network"
   ]
  },
  {
   "cell_type": "markdown",
   "metadata": {},
   "source": [
    "### train set"
   ]
  },
  {
   "cell_type": "code",
   "execution_count": 16,
   "metadata": {},
   "outputs": [],
   "source": [
    "import csv   \n",
    "\n",
    "number_av = 20; number_st = 25\n",
    "Learn_Gau_L100_N400_tr = np.zeros((number_av,number_st)); Step_Gau_L100_N400_tr = np.zeros((number_av,number_st));\n",
    "for i in range(number_av):\n",
    "    j = 0\n",
    "\n",
    "    with open('../data/learning_train/tanh2_gau_L100_N400/tanh2_gaussian_L100_N400_lr_%d.csv' %i , newline='') as csvfile:\n",
    "        spamreader = csv.reader(csvfile, delimiter=' ')\n",
    "        for row in spamreader:\n",
    "            \n",
    "            Learn_Gau_L100_N400_tr[i,j] = row[1]; Step_Gau_L100_N400_tr[i,j]= row[2]\n",
    "            j = j+1\n",
    "    \n",
    "Learn_Gau_L100_N400_av_tr = np.mean(Learn_Gau_L100_N400_tr[:,:],0)\n",
    "Step_Gau_L100_N400_av_tr  = np.mean(Step_Gau_L100_N400_tr[:,:],0)"
   ]
  },
  {
   "cell_type": "markdown",
   "metadata": {},
   "source": [
    "### test set"
   ]
  },
  {
   "cell_type": "code",
   "execution_count": 17,
   "metadata": {},
   "outputs": [],
   "source": [
    "import csv   \n",
    "\n",
    "number_av = 20; number_st = 23\n",
    "Learn_Gau_L100_N400_te = np.zeros((number_av,number_st)); Step_Gau_L100_N400_te = np.zeros((number_av,number_st));\n",
    "for i in range(number_av):\n",
    "    j = 0\n",
    "\n",
    "    with open('../data/learning_test/tanh2_gau_L100_N400/tanh2_gaussian_L100_N400_lr_%d.csv' %i , newline='') as csvfile:\n",
    "        spamreader = csv.reader(csvfile, delimiter=' ')\n",
    "        for row in spamreader:\n",
    "            \n",
    "            Learn_Gau_L100_N400_te[i,j] = row[1]; Step_Gau_L100_N400_te[i,j]= row[2]\n",
    "            j = j+1\n",
    "    \n",
    "Learn_Gau_L100_N400_av_te = np.mean(Learn_Gau_L100_N400_te[:,:],0)\n",
    "Step_Gau_L100_N400_av_te  = np.mean(Step_Gau_L100_N400_te[:,:],0)"
   ]
  },
  {
   "cell_type": "markdown",
   "metadata": {},
   "source": [
    "##  $L=200$ on $N = 400$ Orthogonal network"
   ]
  },
  {
   "cell_type": "markdown",
   "metadata": {},
   "source": [
    "### train set"
   ]
  },
  {
   "cell_type": "code",
   "execution_count": 18,
   "metadata": {},
   "outputs": [],
   "source": [
    "import csv   \n",
    "number_av = 20; number_st = 33\n",
    "Learn_Ort_L200_N400_tr = np.zeros((number_av,number_st)); Step_Ort_L200_N400_tr = np.zeros((number_av,number_st));\n",
    "for i in range(number_av):\n",
    "    j = 0\n",
    "    with open('../data/learning_train/tanh2_orth_L200_N400/tanh2_orthogonal_L200_N400_lr_%d.csv' %i , newline='') as csvfile:\n",
    "        spamreader = csv.reader(csvfile, delimiter=' ')\n",
    "        for row in spamreader:\n",
    "            Learn_Ort_L200_N400_tr[i,j] = row[1]; Step_Ort_L200_N400_tr[i,j]= row[2]\n",
    "            j = j+1\n",
    "    \n",
    "Learn_Ort_L200_N400_av_tr = np.mean(Learn_Ort_L200_N400_tr[:,:],0)\n",
    "Step_Ort_L200_N400_av_tr  = np.mean(Step_Ort_L200_N400_tr[:,:],0)"
   ]
  },
  {
   "cell_type": "markdown",
   "metadata": {},
   "source": [
    "### test set"
   ]
  },
  {
   "cell_type": "code",
   "execution_count": 19,
   "metadata": {},
   "outputs": [],
   "source": [
    "import csv   \n",
    "number_av = 20; number_st = 28\n",
    "Learn_Ort_L200_N400_te = np.zeros((number_av,number_st)); Step_Ort_L200_N400_te = np.zeros((number_av,number_st));\n",
    "for i in range(number_av):\n",
    "    j = 0\n",
    "    with open('../data/learning_test/tanh2_orth_L200_N400/tanh2_orthogonal_L200_N400_lr_%d.csv' %i , newline='') as csvfile:\n",
    "        spamreader = csv.reader(csvfile, delimiter=' ')\n",
    "        for row in spamreader:\n",
    "            Learn_Ort_L200_N400_te[i,j] = row[1]; Step_Ort_L200_N400_te[i,j]= row[2]\n",
    "            j = j+1\n",
    "    \n",
    "Learn_Ort_L200_N400_av_te = np.mean(Learn_Ort_L200_N400_te[:,:],0)\n",
    "Step_Ort_L200_N400_av_te  = np.mean(Step_Ort_L200_N400_te[:,:],0)"
   ]
  },
  {
   "cell_type": "markdown",
   "metadata": {},
   "source": [
    "##  $L=200$ on $N = 400$ Gaussian network"
   ]
  },
  {
   "cell_type": "code",
   "execution_count": 20,
   "metadata": {},
   "outputs": [],
   "source": [
    "import csv   \n",
    "\n",
    "number_av = 20; number_st = 20\n",
    "Learn_Gau_L200_N400_tr = np.zeros((number_av,number_st)); Step_Gau_L200_N400_tr = np.zeros((number_av,number_st));\n",
    "for i in range(number_av):\n",
    "    j = 0\n",
    "\n",
    "    with open('../data/learning_train/tanh2_gau_L200_N400/tanh2_gaussian_L200_N400_lr_%d.csv' %i , newline='') as csvfile:\n",
    "        spamreader = csv.reader(csvfile, delimiter=' ')\n",
    "        for row in spamreader:\n",
    "            \n",
    "            Learn_Gau_L200_N400_tr[i,j] = row[1]; Step_Gau_L200_N400_tr[i,j]= row[2]\n",
    "            j = j+1\n",
    "    \n",
    "Learn_Gau_L200_N400_av_tr = np.mean(Learn_Gau_L200_N400_tr[:,:],0)\n",
    "Step_Gau_L200_N400_av_tr  = np.mean(Step_Gau_L200_N400_tr[:,:],0)"
   ]
  },
  {
   "cell_type": "code",
   "execution_count": 21,
   "metadata": {},
   "outputs": [],
   "source": [
    "import csv   \n",
    "\n",
    "number_av = 20; number_st = 18\n",
    "Learn_Gau_L200_N400_te = np.zeros((number_av,number_st)); Step_Gau_L200_N400_te = np.zeros((number_av,number_st));\n",
    "for i in range(number_av):\n",
    "    j = 0\n",
    "\n",
    "    with open('../data/learning_test/tanh2_gau_L200_N400/tanh2_gaussian_L200_N400_lr_%d.csv' %i , newline='') as csvfile:\n",
    "        spamreader = csv.reader(csvfile, delimiter=' ')\n",
    "        for row in spamreader:\n",
    "            \n",
    "            Learn_Gau_L200_N400_te[i,j] = row[1]; Step_Gau_L200_N400_te[i,j]= row[2]\n",
    "            j = j+1\n",
    "    \n",
    "Learn_Gau_L200_N400_av_te = np.mean(Learn_Gau_L200_N400_te[:,:],0)\n",
    "Step_Gau_L200_N400_av_te = np.mean(Step_Gau_L200_N400_te[:,:],0)"
   ]
  },
  {
   "cell_type": "markdown",
   "metadata": {},
   "source": [
    "# Figure 4:  The steps $\\tau$ as a function of learning rate $\\eta$\n",
    "The steps $\\tau$ as a function of learning rate $\\eta$ of two lines of networks on both train and test dataset. The results of the orthogonal networks are marked by dotted lines while those of Gaussian initialization are plotted by solid lines. Networks with varying width, i.e. $n = 400, 800,$ and $1600$, on (a) train set and (b) test set;  Networks with varying length, i.e. $L = 50, 100,$ and $200$, on (c) train set and (d) test set. Different colors represent the corresponding width and length. While curves of orthogonal initialization lower than those of Gaussian initialization in the small learning rate phase, the differences become more significant in the large learning rate. Besides, as networks go deeper, orthogonal initialization performs better than Gaussian's. We average our results over 20 different instantiations of the network to reduce noise."
   ]
  },
  {
   "cell_type": "code",
   "execution_count": 23,
   "metadata": {
    "scrolled": true
   },
   "outputs": [
    {
     "data": {
      "image/png": "[encoded data removed]",
      "text/plain": [
       "<Figure size 1080x216 with 4 Axes>"
      ]
     },
     "metadata": {},
     "output_type": "display_data"
    }
   ],
   "source": [
    "plt.figure(figsize=(15, 3))\n",
    "gs = plt.GridSpec(1, 4)\n",
    "matplotlib.rc('xtick',labelsize=15)\n",
    "matplotlib.rc('ytick',labelsize=15)\n",
    "import seaborn as sns\n",
    "sns.set_style(\"darkgrid\", {\"axes.facecolor\":\".95\"})\n",
    "\n",
    "a1 = plt.subplot(gs[0, 0])\n",
    "\n",
    "plt.loglog(Learn_Ort_N400_av_tr, Step_Ort_N400_av_tr,ls='--',color=[0,0,0],label='$n=400$')\n",
    "plt.loglog(Learn_Gau_N400_av_tr, Step_Gau_N400_av_tr,color=[0,0,0])\n",
    "\n",
    "plt.loglog(Learn_Ort_N800_av_tr, Step_Ort_N800_av_tr,ls='--',color=[0,0,0.5],label='$n=800$')\n",
    "plt.loglog(Learn_Gau_N800_av_tr, Step_Gau_N800_av_tr,color=[0,0,0.5])\n",
    "\n",
    "plt.loglog(Learn_Ort_N1600_av_tr, Step_Ort_N1600_av_tr,ls='--',color=[0,0,1],label='$n=1600$')\n",
    "plt.loglog(Learn_Gau_N1600_av_tr, Step_Gau_N1600_av_tr,color=[0,0,1])\n",
    "plt.title('(a) Varing width, Train',fontsize=15)\n",
    "plt.ylim(1e1,1e3)\n",
    "plt.xlabel('$\\eta$',fontsize=15); plt.ylabel(r'$\\tau$',fontsize=15); \n",
    "plt.legend(fontsize=10);\n",
    "\n",
    "a2 = plt.subplot(gs[0, 1])\n",
    "\n",
    "plt.loglog(Learn_Ort_N400_av_te, Step_Ort_N400_av_te,ls='--',color=[0,0,0])\n",
    "plt.loglog(Learn_Gau_N400_av_te, Step_Gau_N400_av_te,color=[0,0,0])\n",
    "\n",
    "plt.loglog(Learn_Ort_N800_av_te, Step_Ort_N800_av_te,ls='--',color=[0,0,0.5])\n",
    "plt.loglog(Learn_Gau_N800_av_te, Step_Gau_N800_av_te,color=[0,0,0.5])\n",
    "\n",
    "plt.loglog(Learn_Ort_N1600_av_te, Step_Ort_N1600_av_te,ls='--',color=[0,0,1])\n",
    "plt.loglog(Learn_Gau_N1600_av_te, Step_Gau_N1600_av_te,color=[0,0,1])\n",
    "plt.ylim(1e1,1e3)\n",
    "plt.title('(b) Varing width, Test',fontsize=15)\n",
    "plt.xlabel('$\\eta$',fontsize=15);\n",
    "\n",
    "\n",
    "a3 = plt.subplot(gs[0, 2])\n",
    "\n",
    "plt.loglog(Learn_Ort_N400_av_tr, Step_Ort_N400_av_tr,ls='--',color=[0,0,0],label='$L=50$')\n",
    "plt.loglog(Learn_Gau_N400_av_tr, Step_Gau_N400_av_tr,color=[0,0,0])\n",
    "\n",
    "\n",
    "plt.loglog(Learn_Ort_L100_N400_av_tr, Step_Ort_L100_N400_av_tr,ls='--',color=[0,0.5,0],label='$L=100$')\n",
    "plt.loglog(Learn_Gau_L100_N400_av_tr, Step_Gau_L100_N400_av_tr,color=[0,0.5,0])\n",
    "\n",
    "plt.loglog(Learn_Ort_L200_N400_av_tr, Step_Ort_L200_N400_av_tr,ls='--',color=[0,1,0],label='$L=200$')\n",
    "plt.loglog(Learn_Gau_L200_N400_av_tr, Step_Gau_L200_N400_av_tr,color=[0,1,0])\n",
    "plt.xlabel('$\\eta$',fontsize=15); plt.ylim(1e1,1e3)\n",
    "plt.legend(fontsize=10);\n",
    "plt.title('(c) Varing length, Train',fontsize=15)\n",
    "\n",
    "a4 = plt.subplot(gs[0, 3])\n",
    "\n",
    "plt.loglog(Learn_Ort_N400_av_te, Step_Ort_N400_av_te,ls='--',color=[0,0,0])\n",
    "plt.loglog(Learn_Gau_N400_av_te, Step_Gau_N400_av_te,color=[0,0,0])\n",
    "\n",
    "plt.loglog(Learn_Ort_L100_N400_av_te, Step_Ort_L100_N400_av_te,ls='--',color=[0,0.5,0])\n",
    "plt.loglog(Learn_Gau_L100_N400_av_te, Step_Gau_L100_N400_av_te,color=[0,0.5,0])\n",
    "\n",
    "plt.loglog(Learn_Ort_L200_N400_av_te, Step_Ort_L200_N400_av_te,ls='--',color=[0,1,0],label='$L=200$')\n",
    "plt.loglog(Learn_Gau_L200_N400_av_te, Step_Gau_L200_N400_av_te,color=[0,1,0])\n",
    "\n",
    "plt.title('(d) Varing length, Test',fontsize=15)\n",
    "plt.xlabel('$\\eta$',fontsize=15); plt.ylim(1e1,1e3)\n",
    "plt.savefig(\"fig4_learnrate.pdf\", bbox_inches='tight')"
   ]
  },
  {
   "cell_type": "code",
   "execution_count": null,
   "metadata": {},
   "outputs": [],
   "source": []
  }
 ],
 "metadata": {
  "kernelspec": {
   "display_name": "Python 3",
   "language": "python",
   "name": "python3"
  },
  "language_info": {
   "codemirror_mode": {
    "name": "ipython",
    "version": 3
   },
   "file_extension": ".py",
   "mimetype": "text/x-python",
   "name": "python",
   "nbconvert_exporter": "python",
   "pygments_lexer": "ipython3",
   "version": "3.6.5"
  }
 },
 "nbformat": 4,
 "nbformat_minor": 1
}
